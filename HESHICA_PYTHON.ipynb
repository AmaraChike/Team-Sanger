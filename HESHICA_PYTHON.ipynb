{
  "nbformat": 4,
  "nbformat_minor": 0,
  "metadata": {
    "colab": {
      "name": "HESHICA_PYTHON.ipynb",
      "provenance": [],
      "collapsed_sections": []
    },
    "kernelspec": {
      "name": "python3",
      "display_name": "Python 3"
    },
    "language_info": {
      "name": "python"
    }
  },
  "cells": [
    {
      "cell_type": "code",
      "metadata": {
        "colab": {
          "base_uri": "https://localhost:8080/"
        },
        "id": "YP1_47VckFxc",
        "outputId": "2cb272f0-1727-4a76-eedd-a8b5a89bb73e"
      },
      "source": [
        "Name=\"Heshica Battina Chowdary\"\n",
        "print(Name)"
      ],
      "execution_count": 1,
      "outputs": [
        {
          "output_type": "stream",
          "text": [
            "Heshica Battina Chowdary\n"
          ],
          "name": "stdout"
        }
      ]
    },
    {
      "cell_type": "code",
      "metadata": {
        "colab": {
          "base_uri": "https://localhost:8080/"
        },
        "id": "gL49iRdZk12X",
        "outputId": "67ecdaa4-63a2-4365-a7cb-483cb73d4086"
      },
      "source": [
        "Email_id=\"heshicabattina982@gmail.com\"\n",
        "print(Email_id)"
      ],
      "execution_count": 2,
      "outputs": [
        {
          "output_type": "stream",
          "text": [
            "heshicabattina982@gmail.com\n"
          ],
          "name": "stdout"
        }
      ]
    },
    {
      "cell_type": "code",
      "metadata": {
        "colab": {
          "base_uri": "https://localhost:8080/"
        },
        "id": "sL-Lie0BlGp-",
        "outputId": "8f8ec74d-68cb-4146-b7f9-cf78bba3afa1"
      },
      "source": [
        "Slack_username=\"Heshica\"\n",
        "print(Slack_username)"
      ],
      "execution_count": 3,
      "outputs": [
        {
          "output_type": "stream",
          "text": [
            "Heshica\n"
          ],
          "name": "stdout"
        }
      ]
    },
    {
      "cell_type": "code",
      "metadata": {
        "colab": {
          "base_uri": "https://localhost:8080/"
        },
        "id": "LSP6yBTLlU5Q",
        "outputId": "cc9f7868-edfd-4959-8f43-32a1de564fb6"
      },
      "source": [
        "Biostack=\"Drug development and Genomics\"\n",
        "print(Biostack)"
      ],
      "execution_count": 4,
      "outputs": [
        {
          "output_type": "stream",
          "text": [
            "Drug development and Genomics\n"
          ],
          "name": "stdout"
        }
      ]
    }
  ]
}